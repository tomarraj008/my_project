{
 "cells": [
  {
   "cell_type": "code",
   "execution_count": 3,
   "metadata": {
    "collapsed": true
   },
   "outputs": [],
   "source": [
    "import findspark\n",
    "findspark.init(\"/home/raj/spark/\")"
   ]
  },
  {
   "cell_type": "code",
   "execution_count": 6,
   "metadata": {
    "collapsed": false,
    "scrolled": true
   },
   "outputs": [],
   "source": [
    "from pyspark.ml.clustering import KMeans\n",
    "from pyspark import SparkContext, SparkConf\n",
    "from pyspark.sql import SparkSession\n",
    "from pyspark.ml import Pipeline\n",
    "from pyspark.ml.feature import StringIndexer, VectorIndexer , VectorAssembler\n",
    "#creation of spark session\n",
    "\n",
    "\n",
    "def K_means():\n",
    "    \n",
    "    spark = SparkSession \\\n",
    "        .builder \\\n",
    "        .appName(\"Python Spark ML example\") \\\n",
    "        .getOrCreate()\n",
    "# Loads data.\n",
    "    dataset= spark\\\n",
    "    .read\\\n",
    "    .option(\"inferSchema\", \"true\")\\\n",
    "    .option(\"header\", \"true\")\\\n",
    "    .csv(\"/home/raj/Downloads/notenook/adult2.csv\")\n",
    "\n",
    "\n",
    "\n",
    "#creation of the features vector and transforming the dataset for the same\n",
    "    workclass_stringIndexer = StringIndexer(inputCol=\"workclass\", outputCol=\"workclass_indexed\")\n",
    "    si_model_workclass = workclass_stringIndexer.fit(dataset)\n",
    "    education_stringIndexer = StringIndexer(inputCol=\"education\", outputCol=\"education_indexed\")\n",
    "    si_model_education = education_stringIndexer.fit(dataset)\n",
    "    occupation_stringIndexer = StringIndexer(inputCol=\"occupation\", outputCol=\"occupation_indexed\")\n",
    "    si_model_occupation = occupation_stringIndexer.fit(dataset)\n",
    "    sex_stringIndexer = StringIndexer(inputCol=\"sex\", outputCol=\"sex_indexed\")\n",
    "    si_model_sex = sex_stringIndexer.fit(dataset)\n",
    "    income_stringIndexer = StringIndexer(inputCol=\"income\", outputCol=\"income_indexed\")\n",
    "    si_model_income = income_stringIndexer.fit(dataset)\n",
    "    td = si_model_workclass.transform(si_model_education.transform(si_model_occupation.transform(si_model_sex.transform(si_model_income.transform(dataset)))))\n",
    "    td.toPandas()\n",
    "\n",
    "\n",
    "#selecting the required columns\n",
    "    feature_columns = [\"age\",\"workclass_indexed\",\"fnlwgt\",\"education_num\",\"hours_per_week\",\"sex_indexed\",\"education_indexed\",\"occupation_indexed\",\"income_indexed\"]\n",
    "\n",
    "    feature_assembler = VectorAssembler(inputCols=feature_columns, outputCol=\"features\")\n",
    "\n",
    "    td_dataset_prepared = feature_assembler.transform(td)\n",
    "    td_dataset_prepared.printSchema()\n",
    "    td_dataset_prepared.toPandas()\n",
    "\n",
    "\n",
    "#making the k_means model\n",
    "    new1=td_dataset_prepared.select(\"features\")\n",
    "#new1.show()\n",
    "    kmeans = KMeans().setK(2).setSeed(1)\n",
    "    model = kmeans.fit(new1)\n",
    "    transformed = model.transform(td_dataset_prepared)\n",
    "    transformed.toPandas()\n",
    "\n",
    "\n",
    "#calculation of SSE\n",
    "    wssse = model.computeCost(td_dataset_prepared)\n",
    "    print(\"Within Set Sum of Squared Errors = \" + str(wssse))\n",
    "\n",
    "\n",
    "#Computing the final clusters of the dataset\n",
    "    centers = model.clusterCenters()\n",
    "    print(\"Cluster Centers: \")\n",
    "    for center in centers:\n",
    "        print(center)\n",
    "        \n",
    "        return center\n",
    "    "
   ]
  },
  {
   "cell_type": "code",
   "execution_count": 7,
   "metadata": {
    "collapsed": false
   },
   "outputs": [
    {
     "name": "stdout",
     "output_type": "stream",
     "text": [
      "root\n",
      " |-- age: integer (nullable = true)\n",
      " |-- workclass: string (nullable = true)\n",
      " |-- fnlwgt: double (nullable = true)\n",
      " |-- education: string (nullable = true)\n",
      " |-- education_num: double (nullable = true)\n",
      " |-- marital_status: string (nullable = true)\n",
      " |-- occupation: string (nullable = true)\n",
      " |-- relationship: string (nullable = true)\n",
      " |-- race: string (nullable = true)\n",
      " |-- sex: string (nullable = true)\n",
      " |-- capital_gain: double (nullable = true)\n",
      " |-- capital_loss: double (nullable = true)\n",
      " |-- hours_per_week: double (nullable = true)\n",
      " |-- native_country: string (nullable = true)\n",
      " |-- income: string (nullable = true)\n",
      " |-- income_indexed: double (nullable = true)\n",
      " |-- sex_indexed: double (nullable = true)\n",
      " |-- occupation_indexed: double (nullable = true)\n",
      " |-- education_indexed: double (nullable = true)\n",
      " |-- workclass_indexed: double (nullable = true)\n",
      " |-- features: vector (nullable = true)\n",
      "\n",
      "Within Set Sum of Squared Errors = 13532238195992.078\n",
      "Cluster Centers: \n",
      "[3.72389937e+01 8.69182390e-01 3.23380658e+05 9.88679245e+00\n",
      " 3.98993711e+01 3.03144654e-01 2.55974843e+00 4.34842767e+00\n",
      " 2.13836478e-01]\n"
     ]
    },
    {
     "data": {
      "text/plain": [
       "array([3.72389937e+01, 8.69182390e-01, 3.23380658e+05, 9.88679245e+00,\n",
       "       3.98993711e+01, 3.03144654e-01, 2.55974843e+00, 4.34842767e+00,\n",
       "       2.13836478e-01])"
      ]
     },
     "execution_count": 7,
     "metadata": {},
     "output_type": "execute_result"
    }
   ],
   "source": [
    "K_means()"
   ]
  },
  {
   "cell_type": "code",
   "execution_count": null,
   "metadata": {
    "collapsed": true
   },
   "outputs": [],
   "source": []
  }
 ],
 "metadata": {
  "anaconda-cloud": {},
  "kernelspec": {
   "display_name": "Python [conda env:anaconda3]",
   "language": "python",
   "name": "conda-env-anaconda3-py"
  },
  "language_info": {
   "codemirror_mode": {
    "name": "ipython",
    "version": 3
   },
   "file_extension": ".py",
   "mimetype": "text/x-python",
   "name": "python",
   "nbconvert_exporter": "python",
   "pygments_lexer": "ipython3",
   "version": "3.5.2"
  }
 },
 "nbformat": 4,
 "nbformat_minor": 2
}
