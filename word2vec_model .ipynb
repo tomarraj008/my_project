{
 "cells": [
  {
   "cell_type": "code",
   "execution_count": 7,
   "metadata": {
    "collapsed": true
   },
   "outputs": [],
   "source": [
    "import findspark\n",
    "findspark.init(\"/home/raj/spark/\")"
   ]
  },
  {
   "cell_type": "code",
   "execution_count": 8,
   "metadata": {
    "colab": {
     "autoexec": {
      "startup": false,
      "wait_interval": 0
     }
    },
    "colab_type": "code",
    "collapsed": false,
    "id": "VcFFcmKep43L"
   },
   "outputs": [],
   "source": [
    "from pyspark.mllib.feature import Word2Vec\n",
    "from pyspark.sql import SparkSession\n",
    "\n",
    "def Word2vec():\n",
    "    \n",
    "\n",
    "    spark = SparkSession \\\n",
    "        .builder \\\n",
    "        .appName(\"Python Spark ML example\") \\\n",
    "        .getOrCreate()\n",
    "        \n",
    "\n",
    "    sc = spark.sparkContext\n",
    "\n",
    "\n",
    "\n",
    "\n",
    "\n",
    "    dataset = sc.textFile(\"/home/raj/Videos/skillset.txt\").map(lambda row: row.split(\" \"))\n",
    "\n",
    "    word2vec = Word2Vec()\n",
    "    model = word2vec.fit(dataset)\n",
    "\n",
    "    synonyms = model.findSynonyms('html', 5)\n",
    "\n",
    "    for word, cosine_distance in synonyms:\n",
    "        print(\"{}: {}\".format(word, cosine_distance))\n",
    "        \n",
    "        return word, cosine_distance"
   ]
  },
  {
   "cell_type": "code",
   "execution_count": 9,
   "metadata": {
    "colab": {
     "autoexec": {
      "startup": false,
      "wait_interval": 0
     }
    },
    "colab_type": "code",
    "collapsed": false,
    "id": "HbczScinp43d"
   },
   "outputs": [
    {
     "name": "stdout",
     "output_type": "stream",
     "text": [
      "angular: 0.9316748380661011\n"
     ]
    },
    {
     "data": {
      "text/plain": [
       "('angular', 0.9316748380661011)"
      ]
     },
     "execution_count": 9,
     "metadata": {},
     "output_type": "execute_result"
    }
   ],
   "source": [
    "Word2vec()"
   ]
  },
  {
   "cell_type": "code",
   "execution_count": null,
   "metadata": {
    "collapsed": true
   },
   "outputs": [],
   "source": []
  }
 ],
 "metadata": {
  "anaconda-cloud": {},
  "colab": {
   "default_view": {},
   "name": "word2vec_model.ipynb",
   "provenance": [],
   "version": "0.3.2",
   "views": {}
  },
  "kernelspec": {
   "display_name": "Python [conda env:anaconda3]",
   "language": "python",
   "name": "conda-env-anaconda3-py"
  },
  "language_info": {
   "codemirror_mode": {
    "name": "ipython",
    "version": 3
   },
   "file_extension": ".py",
   "mimetype": "text/x-python",
   "name": "python",
   "nbconvert_exporter": "python",
   "pygments_lexer": "ipython3",
   "version": "3.5.2"
  }
 },
 "nbformat": 4,
 "nbformat_minor": 0
}
