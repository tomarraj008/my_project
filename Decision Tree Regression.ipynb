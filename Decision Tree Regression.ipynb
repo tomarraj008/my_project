{
 "cells": [
  {
   "cell_type": "code",
   "execution_count": 1,
   "metadata": {
    "collapsed": false
   },
   "outputs": [],
   "source": [
    "import findspark\n",
    "findspark.init(\"/home/raj/spark/\")\n"
   ]
  },
  {
   "cell_type": "code",
   "execution_count": 2,
   "metadata": {
    "collapsed": false
   },
   "outputs": [],
   "source": [
    "from pyspark.ml.feature import VectorAssembler\n",
    "from pyspark.ml import Pipeline\n",
    "from pyspark.ml.regression import DecisionTreeRegressor\n",
    "from pyspark.ml.feature import VectorIndexer\n",
    "from pyspark.ml.evaluation import RegressionEvaluator\n",
    "from pyspark.ml.feature import StringIndexer\n",
    "from pyspark.sql import SparkSession"
   ]
  },
  {
   "cell_type": "code",
   "execution_count": 7,
   "metadata": {
    "collapsed": false
   },
   "outputs": [],
   "source": [
    "def DecisionTree():\n",
    "    \n",
    "\n",
    "    spark = SparkSession.builder.appName(\"DecisionTreeRegressionExample\").getOrCreate()\n",
    "\n",
    " \n",
    "    dataset = spark.read.format(\"csv\").option(\"inferSchema\",\"true\").option(\"header\",\"true\").load(\"/home/raj/Downloads/notenook/adult2.csv\")\n",
    "\n",
    "#dataset.printSchema()\n",
    "\n",
    "\n",
    "\n",
    "    \n",
    "    #indexer converts categorical data into numerics \n",
    "    workclass_stringIndexer = StringIndexer(inputCol=\"workclass\", outputCol=\"workclass_indexed\")\n",
    "    si_model_workclass = workclass_stringIndexer.fit(dataset)\n",
    "\n",
    "    education_stringIndexer = StringIndexer(inputCol=\"education\", outputCol=\"education_indexed\")\n",
    "    si_model_education = education_stringIndexer.fit(dataset)\n",
    "\n",
    "    occupation_stringIndexer = StringIndexer(inputCol=\"occupation\", outputCol=\"occupation_indexed\")\n",
    "    si_model_occupation = occupation_stringIndexer.fit(dataset)\n",
    "\n",
    "    sex_stringIndexer = StringIndexer(inputCol=\"sex\", outputCol=\"sex_indexed\")\n",
    "    si_model_sex = sex_stringIndexer.fit(dataset)\n",
    "\n",
    "    income_stringIndexer = StringIndexer(inputCol=\"income\", outputCol=\"income_indexed\")\n",
    "    si_model_income = income_stringIndexer.fit(dataset)\n",
    "\n",
    "    td = si_model_workclass.transform(si_model_education.transform(si_model_occupation.transform(si_model_sex.transform(si_model_income.transform(dataset)))))\n",
    "\n",
    "#convert to pandas dataframe\n",
    "    td.toPandas()\n",
    "\n",
    "\n",
    "\n",
    "    feature_columns = [\"age\",\"workclass_indexed\",\"fnlwgt\",\"education_num\",\"hours_per_week\",\"sex_indexed\",\"education_indexed\",\"occupation_indexed\"]\n",
    "\n",
    "    feature_assembler = VectorAssembler(inputCols=feature_columns, outputCol=\"features\")\n",
    "    data = feature_assembler.transform(td)\n",
    "\n",
    "    # Automatically identify categorical features, and index them.\n",
    "    # We specify maxCategories so features with > 4 distinct values are treated as continuous.\n",
    "    featureIndexer = VectorIndexer(inputCol=\"features\", outputCol=\"indexedFeatures\", maxCategories=4).fit(data)\n",
    "\n",
    "    # Split the data into training and test sets (30% held out for testing)\n",
    "    (trainingData, testData) = data.randomSplit([0.7, 0.3])\n",
    "    print(featureIndexer)\n",
    "\n",
    "    # Train a DecisionTree model.\n",
    "    dt = DecisionTreeRegressor(featuresCol=\"indexedFeatures\",labelCol=\"income_indexed\")\n",
    "\n",
    "    # Chain indexer and tree in a Pipeline\n",
    "    pipeline = Pipeline(stages=[featureIndexer, dt])\n",
    "\n",
    "    # Train model.  This also runs the indexer.\n",
    "    model = pipeline.fit(trainingData)\n",
    "\n",
    "    # Make predictions.\n",
    "    predictions = model.transform(testData)\n",
    "\n",
    "    # Select example rows to display.\n",
    "    predictions.select(\"prediction\", \"income_indexed\", \"features\").show(5)\n",
    "\n",
    "    # Select (prediction, true label) and compute test error\n",
    "    evaluator = RegressionEvaluator(\n",
    "       labelCol=\"income_indexed\", predictionCol=\"prediction\", metricName=\"rmse\")\n",
    "    rmse = evaluator.evaluate(predictions)\n",
    "    print(\"Root Mean Squared Error (RMSE) on test data = %g\" % rmse)\n",
    "\n",
    "    treeModel = model.stages[1]\n",
    "    \n",
    "    return rmse , treeModel\n",
    "\n"
   ]
  },
  {
   "cell_type": "code",
   "execution_count": 8,
   "metadata": {
    "collapsed": false
   },
   "outputs": [
    {
     "name": "stdout",
     "output_type": "stream",
     "text": [
      "VectorIndexer_4a8099a79d75b2a89f75\n",
      "+--------------------+--------------+--------------------+\n",
      "|          prediction|income_indexed|            features|\n",
      "+--------------------+--------------+--------------------+\n",
      "|0.023809523809523808|           0.0|[17.0,3.0,80077.0...|\n",
      "|0.023809523809523808|           0.0|[17.0,3.0,202521....|\n",
      "|                 0.0|           0.0|[17.0,2.0,32124.0...|\n",
      "|                 0.0|           0.0|[17.0,0.0,65368.0...|\n",
      "|                 0.0|           0.0|[17.0,0.0,100828....|\n",
      "+--------------------+--------------+--------------------+\n",
      "only showing top 5 rows\n",
      "\n",
      "Root Mean Squared Error (RMSE) on test data = 0.390651\n"
     ]
    },
    {
     "data": {
      "text/plain": [
       "(0.39065096570689944,\n",
       " DecisionTreeRegressionModel (uid=DecisionTreeRegressor_411db34f11fa339084ac) of depth 5 with 59 nodes)"
      ]
     },
     "execution_count": 8,
     "metadata": {},
     "output_type": "execute_result"
    }
   ],
   "source": [
    "DecisionTree()"
   ]
  },
  {
   "cell_type": "code",
   "execution_count": null,
   "metadata": {
    "collapsed": true
   },
   "outputs": [],
   "source": []
  }
 ],
 "metadata": {
  "anaconda-cloud": {},
  "kernelspec": {
   "display_name": "Python [default]",
   "language": "python",
   "name": "python3"
  },
  "language_info": {
   "codemirror_mode": {
    "name": "ipython",
    "version": 3
   },
   "file_extension": ".py",
   "mimetype": "text/x-python",
   "name": "python",
   "nbconvert_exporter": "python",
   "pygments_lexer": "ipython3",
   "version": "3.5.2"
  }
 },
 "nbformat": 4,
 "nbformat_minor": 2
}
