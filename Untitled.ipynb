{
 "cells": [
  {
   "cell_type": "code",
   "execution_count": 3,
   "metadata": {
    "collapsed": false
   },
   "outputs": [],
   "source": [
    "import os"
   ]
  },
  {
   "cell_type": "code",
   "execution_count": 10,
   "metadata": {
    "collapsed": false,
    "scrolled": true
   },
   "outputs": [
    {
     "data": {
      "text/plain": [
       "<bound method Mapping.items of environ({'XDG_DATA_DIRS': '/usr/share/ubuntu:/usr/share/gnome:/usr/local/share:/usr/share:/var/lib/snapd/desktop:/var/lib/snapd/desktop', 'SESSIONTYPE': 'gnome-session', 'XDG_GREETER_DATA_DIR': '/var/lib/lightdm-data/raj', '_': '/home/raj/anaconda3/bin/jupyter-notebook', 'QT_QPA_PLATFORMTHEME': 'appmenu-qt5', 'OLDPWD': '/home/raj/Downloads', 'GTK2_MODULES': 'overlay-scrollbar', 'UPSTART_EVENTS': 'xsession started', 'JPY_PARENT_PID': '25511', 'QT_IM_MODULE': 'ibus', 'QT4_IM_MODULE': 'xim', 'JAVA_HOME': '/usr/lib/jvm/java-8-openjdk-amd64', 'LANGUAGE': 'en_IN:en', 'YARN_HOME': '/home/raj/hadoop', 'LANG': 'en_IN', 'XDG_CURRENT_DESKTOP': 'Unity', 'XDG_CONFIG_DIRS': '/etc/xdg/xdg-ubuntu:/usr/share/upstart/xdg:/etc/xdg', 'SHLVL': '1', 'HADOOP_COMMON_HOME': '/home/raj/hadoop', 'PAGER': 'cat', 'HADOOP_HOME': '/home/raj/hadoop', 'SPARK_HOME': '/home/raj/spark/', 'CLUTTER_IM_MODULE': 'xim', 'JOB': 'unity-settings-daemon', 'GPG_AGENT_INFO': '/home/raj/.gnupg/S.gpg-agent:0:1', 'LS_COLORS': 'rs=0:di=01;34:ln=01;36:mh=00:pi=40;33:so=01;35:do=01;35:bd=40;33;01:cd=40;33;01:or=40;31;01:mi=00:su=37;41:sg=30;43:ca=30;41:tw=30;42:ow=34;42:st=37;44:ex=01;32:*.tar=01;31:*.tgz=01;31:*.arc=01;31:*.arj=01;31:*.taz=01;31:*.lha=01;31:*.lz4=01;31:*.lzh=01;31:*.lzma=01;31:*.tlz=01;31:*.txz=01;31:*.tzo=01;31:*.t7z=01;31:*.zip=01;31:*.z=01;31:*.Z=01;31:*.dz=01;31:*.gz=01;31:*.lrz=01;31:*.lz=01;31:*.lzo=01;31:*.xz=01;31:*.bz2=01;31:*.bz=01;31:*.tbz=01;31:*.tbz2=01;31:*.tz=01;31:*.deb=01;31:*.rpm=01;31:*.jar=01;31:*.war=01;31:*.ear=01;31:*.sar=01;31:*.rar=01;31:*.alz=01;31:*.ace=01;31:*.zoo=01;31:*.cpio=01;31:*.7z=01;31:*.rz=01;31:*.cab=01;31:*.jpg=01;35:*.jpeg=01;35:*.gif=01;35:*.bmp=01;35:*.pbm=01;35:*.pgm=01;35:*.ppm=01;35:*.tga=01;35:*.xbm=01;35:*.xpm=01;35:*.tif=01;35:*.tiff=01;35:*.png=01;35:*.svg=01;35:*.svgz=01;35:*.mng=01;35:*.pcx=01;35:*.mov=01;35:*.mpg=01;35:*.mpeg=01;35:*.m2v=01;35:*.mkv=01;35:*.webm=01;35:*.ogm=01;35:*.mp4=01;35:*.m4v=01;35:*.mp4v=01;35:*.vob=01;35:*.qt=01;35:*.nuv=01;35:*.wmv=01;35:*.asf=01;35:*.rm=01;35:*.rmvb=01;35:*.flc=01;35:*.avi=01;35:*.fli=01;35:*.flv=01;35:*.gl=01;35:*.dl=01;35:*.xcf=01;35:*.xwd=01;35:*.yuv=01;35:*.cgm=01;35:*.emf=01;35:*.ogv=01;35:*.ogx=01;35:*.aac=00;36:*.au=00;36:*.flac=00;36:*.m4a=00;36:*.mid=00;36:*.midi=00;36:*.mka=00;36:*.mp3=00;36:*.mpc=00;36:*.ogg=00;36:*.ra=00;36:*.wav=00;36:*.oga=00;36:*.opus=00;36:*.spx=00;36:*.xspf=00;36:', 'VTE_VERSION': '4205', 'XDG_SESSION_TYPE': 'x11', 'QT_ACCESSIBILITY': '1', 'GTK_MODULES': 'gail:atk-bridge:unity-gtk-module', 'GNOME_DESKTOP_SESSION_ID': 'this-is-deprecated', 'XDG_SESSION_ID': 'c2', 'UPSTART_INSTANCE': '', 'CLICOLOR': '1', 'J2SDKDIR': '/usr/lib/jvm/java-8-oracle', 'PWD': '/home/raj/Downloads/notenook', 'LOGNAME': 'raj', 'GIT_PAGER': 'cat', 'SHELL': '/bin/bash', 'COMPIZ_BIN_PATH': '/usr/bin/', 'QT_LINUX_ACCESSIBILITY_ALWAYS_ON': '1', 'XDG_MENU_PREFIX': 'gnome-', 'DERBY_HOME': '/usr/lib/jvm/java-8-oracle/db', 'XDG_VTNR': '7', 'DEFAULTS_PATH': '/usr/share/gconf/ubuntu.default.path', 'MPLBACKEND': 'module://ipykernel.pylab.backend_inline', 'GTK_IM_MODULE': 'ibus', 'GNOME_KEYRING_PID': '', 'USER': 'raj', 'XAUTHORITY': '/home/raj/.Xauthority', 'XDG_SEAT': 'seat0', 'WINDOWID': '67108874', 'J2REDIR': '/usr/lib/jvm/java-8-oracle/jre', 'IM_CONFIG_PHASE': '1', 'HADOOP_MAPRED_HOME': '/home/raj/hadoop', 'PYSPARK_PYTHON': '/home/raj/anaconda3/bin/python', 'LESSOPEN': '| /usr/bin/lesspipe %s', 'SSH_AUTH_SOCK': '/run/user/1000/keyring/ssh', 'LESSCLOSE': '/usr/bin/lesspipe %s %s', 'DISPLAY': ':0', 'DESKTOP_SESSION': 'ubuntu', 'MANDATORY_PATH': '/usr/share/gconf/ubuntu.mandatory.path', 'XMODIFIERS': '@im=ibus', 'XDG_SESSION_PATH': '/org/freedesktop/DisplayManager/Session0', 'TERM': 'xterm-color', 'SESSION': 'ubuntu', 'CONDA_ROOT': '/home/raj/anaconda3', 'GDMSESSION': 'ubuntu', 'XDG_SESSION_DESKTOP': 'ubuntu', 'COMPIZ_CONFIG_PROFILE': 'ubuntu', 'XDG_SEAT_PATH': '/org/freedesktop/DisplayManager/Seat0', 'HADOOP_COMMON_LIB_NATIVE_DIR': '/home/raj/hadoop/lib/native', 'DBUS_SESSION_BUS_ADDRESS': 'unix:abstract=/tmp/dbus-FPckliEi1z', 'UPSTART_SESSION': 'unix:abstract=/com/ubuntu/upstart-session/1000/2780', 'SESSION_MANAGER': 'local/tomar:@/tmp/.ICE-unix/3205,unix/tomar:/tmp/.ICE-unix/3205', 'INSTANCE': '', 'PATH': '/home/raj/anaconda3/bin:/home/raj/bin:/home/raj/.local/bin:/usr/local/sbin:/usr/local/bin:/usr/sbin:/usr/bin:/sbin:/bin:/usr/games:/usr/local/games:/snap/bin:/usr/lib/jvm/java-8-oracle/bin:/usr/lib/jvm/java-8-oracle/db/bin:/usr/lib/jvm/java-8-oracle/jre/bin:/usr/lib/jvm/java-8-openjdk-amd64/bin:/bin:/sbin:/home/raj/hadoop/sbin:/home/raj/hadoop/bin:/home/raj/.local/lib/python3.5/site-packages/numpy/.libs', 'UPSTART_JOB': 'unity7', 'GDM_LANG': 'en_US', 'HOME': '/home/raj', 'HADOOP_HDFS_HOME': '/home/raj/hadoop', 'XDG_RUNTIME_DIR': '/run/user/1000', 'GNOME_KEYRING_CONTROL': '', 'HADOOP_INSTALL': '/home/raj/hadoop'})>"
      ]
     },
     "execution_count": 10,
     "metadata": {},
     "output_type": "execute_result"
    }
   ],
   "source": []
  },
  {
   "cell_type": "code",
   "execution_count": null,
   "metadata": {
    "collapsed": true
   },
   "outputs": [],
   "source": []
  }
 ],
 "metadata": {
  "anaconda-cloud": {},
  "kernelspec": {
   "display_name": "Python [conda env:anaconda3]",
   "language": "python",
   "name": "conda-env-anaconda3-py"
  },
  "language_info": {
   "codemirror_mode": {
    "name": "ipython",
    "version": 3
   },
   "file_extension": ".py",
   "mimetype": "text/x-python",
   "name": "python",
   "nbconvert_exporter": "python",
   "pygments_lexer": "ipython3",
   "version": "3.5.2"
  }
 },
 "nbformat": 4,
 "nbformat_minor": 1
}
